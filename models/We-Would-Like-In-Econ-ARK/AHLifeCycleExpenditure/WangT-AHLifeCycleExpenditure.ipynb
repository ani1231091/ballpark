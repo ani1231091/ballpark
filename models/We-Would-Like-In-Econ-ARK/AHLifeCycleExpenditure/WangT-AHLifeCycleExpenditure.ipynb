{
 "cells": [
  {
   "cell_type": "markdown",
   "metadata": {},
   "source": [
    "### [Deconstructing Lifecycle Expenditure(JPE2013)](https://scholar.princeton.edu/sites/default/files/670740_0.pdf)\n",
    "- Author: Mark Aguiar and Erik Hurst\n",
    "- Notebook by [Tao Wang](https://taowangecon.github.io)\n",
    "- April 22, 2019"
   ]
  },
  {
   "cell_type": "markdown",
   "metadata": {},
   "source": [
    "### What does this paper do ?\n",
    "\n",
    "\n",
    "- Provides evidence on heterogeneity in sub-category of non-durable consumption over the life cycle, in particular, clothing, food, and nondurable transportation declines after middle-age. \n",
    "- Provides a compositional explanation for the following two well-known facts:  \n",
    "   1. the ''hump''-shaped lifecycle non-durable consumption  \n",
    "   2. steady increase in inequality of non-durable consumption over life cycle \n",
    "- Traditional view is that both facts are due to uninsured permanent income. This paper suggests the pattern was primarily driven by either work-related expenditure or home-production(food).\n",
    "- Calibrated an extended standard model of incomplete market to include two types of good."
   ]
  },
  {
   "cell_type": "markdown",
   "metadata": {},
   "source": [
    "### Empirical Evidence\n",
    "\n",
    "- __Data__: Consumer Expenditure Survey (CEX) between 1980-2003. \n",
    "   - Six sub-category of expenditures: food, entertainment, transportation, clothing and personal care, utilities, and housing/rent\n",
    "   - Household head age between 25 and 75\n",
    "   - 53412 households\n",
    "   - Nondurables excluding health and education expenditures\n",
    "   - 75\\% of household expenditure"
   ]
  },
  {
   "cell_type": "markdown",
   "metadata": {},
   "source": [
    "### Model \n",
    "\n",
    "- __Modifiction to the Standard Model__ :\n",
    "  1. From one good to two-good: core consumption $c_1$ and work-related/home-production consumption $c_2$ (i.e. complements to work or substitutes to non-work)\n",
    "  \n",
    "  2. Utiliy from two goods are separable.\n",
    "  \n",
    "  3. $c_2$ is produced by market inputs and non-work time(including leisure). \n",
    "  \n",
    "- __Income Process__: \n",
    "  1. labor productivity shock z, following a Markov process plus a common deterministic, age-related component.  \n",
    "  2. exogenous retirement shock.\n",
    "- __Choice Variable__: \n",
    "   - core consumptionc and home-production/work-related expenditure.\n",
    "   - market input to home production.\n",
    "   - saving. \n",
    "   - labor supply (thus time at home that enters in home-production).\n",
    "\n",
    "- __Other Assumptions__ \n",
    "    - infinitely lived.\n",
    "    - single risk-free bond."
   ]
  },
  {
   "cell_type": "markdown",
   "metadata": {},
   "source": [
    "### How is it related to and can be implemented in HARK?\n",
    "\n",
    "- The existing toolkit of HARK solves life-cycle model of consumption choices with separable utility. \n",
    "- In order to implement this paper's idea, labor supply decision and non-seperable utility needs to be added to the existing toolkit, which is in line with HARK team's agenda\n",
    "- Add a new agent type with two-good consumption choice"
   ]
  },
  {
   "cell_type": "markdown",
   "metadata": {},
   "source": [
    "### What is interesting about this paper\n",
    "\n",
    "- It is an example that disaggregated consumption profiles can be used to identify different consumption theories as these tend to have different predictions."
   ]
  }
 ],
 "metadata": {
  "kernelspec": {
   "display_name": "Python 3",
   "language": "python",
   "name": "python3"
  },
  "language_info": {
   "codemirror_mode": {
    "name": "ipython",
    "version": 3
   },
   "file_extension": ".py",
   "mimetype": "text/x-python",
   "name": "python",
   "nbconvert_exporter": "python",
   "pygments_lexer": "ipython3",
   "version": "3.6.7"
  },
  "varInspector": {
   "cols": {
    "lenName": 16,
    "lenType": 16,
    "lenVar": 40
   },
   "kernels_config": {
    "python": {
     "delete_cmd_postfix": "",
     "delete_cmd_prefix": "del ",
     "library": "var_list.py",
     "varRefreshCmd": "print(var_dic_list())"
    },
    "r": {
     "delete_cmd_postfix": ") ",
     "delete_cmd_prefix": "rm(",
     "library": "var_list.r",
     "varRefreshCmd": "cat(var_dic_list()) "
    }
   },
   "types_to_exclude": [
    "module",
    "function",
    "builtin_function_or_method",
    "instance",
    "_Feature"
   ],
   "window_display": false
  }
 },
 "nbformat": 4,
 "nbformat_minor": 2
}
