{
 "cells": [
  {
   "cell_type": "markdown",
   "metadata": {},
   "source": [
    "## Idiosyncratic Shocks and the Role of Nonconvexities in Plant and Aggregate Investment Dynamics\n",
    "## Aubhik Khan and Julia Thomas (Econometrica, 2008)"
   ]
  },
  {
   "cell_type": "markdown",
   "metadata": {},
   "source": [
    "## The paper's objective\n",
    "\n",
    "\n",
    "* A model of lumpy investment wherein firms face persistent shocks to common and plant-specific productivity, and nonconvex adjustment costs.\n",
    "\n",
    "* The model extends the real business cycle model to include firm heterogeneity and fixed capital adjustment costs. The aggregate state vector of the model contains the distribution of firms over idiosyncratic productivity and capital, which evolves over time in response to aggregate productivity shocks.\n",
    "\n",
    "* The dynamics of the distribution must satisfy a complicated fixed point problem: each firm’s investment decision depends on its expectations of the dynamics of the distribution, and the dynamics of the distribution depend on firms’ investment decisions.\n",
    "\n",
    "* **This infinite-dimensional fixed point problem is at the heart of the computational challenges faced by the heterogeneous agent literature.**"
   ]
  },
  {
   "cell_type": "markdown",
   "metadata": {},
   "source": [
    "## Associated Literature\n",
    "\n",
    "* Host of Papers that look at the heterogeneity through the firm channel.\n",
    "\n",
    "\n",
    "   * Micro-level Heterogeneity and Transmission: [Reiter, Sveen and Weinke (2013)] (_Lumpy investment and the monetary transmission mechanism_), [Koby and Wolf (2019)] **(_Investment Stimulus: From Micro Elasticities to Macro Counterfactuals_)**.\n",
    "   \n",
    "   * Financial heterogeneity and  the business cycle dynamics of aggregate investment: [Khan, Senga and Thomas (2016)] **(_Default Risk and Aggregate Fluctuations in an Economy with Production Heterogeneity_)**.\n",
    "\n",
    "   * Investment and Business Cycle: [Cooper, Haltiwanger (2006)] **(_Machine Replacement and the Business Cycle: Lumps and Bumps_)**. \n",
    "   \n",
    "   * Heterogeneity and computation: [Krusell, Smith (1998)] **(_Income and wealth heterogeneity in the macroeconomy_)**."
   ]
  },
  {
   "cell_type": "markdown",
   "metadata": {},
   "source": [
    "## Empirics"
   ]
  },
  {
   "cell_type": "markdown",
   "metadata": {},
   "source": [
    "* First, Microeconomic lumpiness continues to have perceptible effects on aggregate investment dynamics only when equilibrium factor supply considerations are ignored.\n",
    "   * General equilibrium itself matters tremendously in shaping aggregate dynamics. \n",
    "      \n",
    "      * First, it is extremely effective in smoothing changes in aggregate series, yielding investment rates close to the postwar U.S. data in both their cyclical variability and persistence, irrespective of capital adjustment costs. \n",
    "      * Second, it dampens much of the movement along the extensive margin that would otherwise distinguish the lumpy investment economy, leaving no trace of aggregate nonlinearities.\n",
    "\n",
    "* Second, they find that the near-zero skewness and excess kurtosis in our general equilibrium models’ aggregate investment rate series matches the third and fourth moments of postwar U.S. aggregate investment rates reasonably well, and far more closely than does the partial equilibrium lumpy model.\n",
    "\n",
    "* Third, they find that the microeconomic role of nonconvex capital adjustment costs can change substantially in the presence of persistent idiosyncratic risk. When plant-specific productivity shocks are volatile relative to aggregate shocks, as suggested by the data, nonconvex costs no longer cause the plant-level investment spikes that are the hallmark of lumpy investment.\n"
   ]
  },
  {
   "cell_type": "markdown",
   "metadata": {},
   "source": [
    "# Model (Winberry version of KT)"
   ]
  },
  {
   "attachments": {},
   "cell_type": "markdown",
   "metadata": {},
   "source": [
    "I adopt the Winberry adaptation (2018) of KT. It is useful for computation and is a little bit more tractable. This is the standard Benchmark RBC model with firm heterogeneity.\n",
    "\n",
    "* **Firms**\n",
    "\n",
    "\n",
    "There is a fixed mass of firms j $\\in$ [0, 1] which produce output $y_{t}$ according to the\n",
    "production function\n",
    "\n",
    "$$\n",
    "y_{j t}=e^{z_{t}} e^{\\varepsilon_{j t}} k_{j t}^{\\theta} n_{j t}^{\\nu},  \\theta+\\nu<1\n",
    "$$\n",
    "\n",
    "where \\( z_{t} \\) is an aggregate productivity shock, \\( \\varepsilon_{j t} \\) is an idiosyncratic productivity shock, \\( k_{j t} \\) is capital, \\( n_{j t} \\) is labor, \\( \\theta \\) is the elasticity of output with respect to capital, and \\( \\nu \\) is the elasticity of output with respect to labor. The aggregate shock \\( z_{t} \\) is common to all firms and follows the AR ( 1) process \n",
    "\\[ z_{t+1}=\\rho_{z} z_{t}+\\sigma_{z} \\omega_{t+1}^{z}, \\text { where } \\omega_{t+1}^{z} \\sim N(0,1) \\]\n",
    "\n",
    "The idiosyncratic shock \\( \\varepsilon_{j t} \\) independently distributed across firms, but within firms follows the AR ( 1) process\n",
    "\\[ \\varepsilon_{j t+1}=\\rho_{\\varepsilon} \\varepsilon_{j t}+\\sigma_{\\varepsilon} \\omega_{t+1}^{\\varepsilon}, \\text { where } \\omega_{t+1}^{\\varepsilon} \\sim N(0,1) \\]\n",
    "\n",
    "In each period, the firm \\( j \\) inherits its capital stock from previous periods' investments, observes the two productivity shocks, hires labor from a competitive labor market, and produces output.\n",
    "\n",
    "After production, the firm invests in capital for the next period. Gross investment \\( i_{j t} \\) yields \\( k_{j t+1}=(1-\\delta) k_{j t}+i_{j t} \\) units of capital next period, where \\( \\delta \\) is the depreciation rate of capital. If \\( \\frac{i_{t}}{k_{j t}} \\notin[-a, a], \\) the firm must pay a fixed adjustment cost \\( \\xi_{j t} \\) in units of labor. The parameter \\( a \\) governs a region around zero investment within firms do not incur the fixed cost. The fixed cost \\( \\xi_{j t} \\) is a random variable distributed uniformly \\( [0, \\bar{\\xi}], \\)  and independently over firms and time.\n",
    "\n",
    "* **Households**\n",
    "\n",
    "The function \\[ \\mathbb{E} \\sum_{t=0}^{\\infty} \\beta^{t}\\left[\\frac{C_{t}^{1-\\sigma}-1}{1-\\sigma}-\\chi \\frac{N_{t}^{1+\\alpha}}{1+\\alpha}\\right] \\] where \\( C_{t} \\) is consumption, \\( N_{t} \\) is labor supplied to the market, \\( \\beta \\) is the discount factor, \\( \\sigma \\) is the coefficient of relative risk aversion, \\( \\chi \\) governs the disutility of labor supply, and \\( 1 / \\alpha \\) is the Frisch elasticity of labor supply. The total time endowment per period is normalized to 1, so that \\( N_{t} \\in[0,1] \\). The household owns all the firms in the economy and markets are complete.\n",
    "\n",
    "\n"
   ]
  },
  {
   "cell_type": "markdown",
   "metadata": {},
   "source": [
    "## Solving the Model"
   ]
  },
  {
   "attachments": {},
   "cell_type": "markdown",
   "metadata": {},
   "source": [
    "The household optimization is loaded into the firm's optimization problem by approximating the transformed value as is done in Khan and Thomas (2008),\n",
    "\n",
    "\\begin{equation}\n",
    "\\begin{aligned} \n",
    "v(\\varepsilon, k, \\xi ; \\mathbf{s}) &=\\lambda(\\mathbf{s}) \\max _{n}\\left\\{e^{z} e^{\\varepsilon} k^{\\theta} n^{\\nu}-w(\\mathbf{s}) n\\right\\} \\\\ &+\\max \\left\\{v^{a}(\\varepsilon, k ; \\mathbf{s})-\\xi \\lambda(\\mathbf{s}) w(\\mathbf{s}), v^{n}(\\varepsilon, k ; \\mathbf{s})\\right\\} \n",
    "\\end{aligned}\n",
    "\\end{equation}\n",
    "\n",
    "where \\( \\mathrm{s} \\) is the aggregate state vector (defined below), \\( \\lambda(\\mathrm{s})=C(\\mathrm{s})^{-\\sigma} \\) is the marginal of consumption in equilibrium,\n",
    "\\[ v^{a}(\\varepsilon, k ; \\mathrm{s})=\\max _{k^{\\prime} \\in \\mathbb{R}}-\\lambda(\\mathrm{s})\\left(k^{\\prime}-(1-\\delta) k\\right)+\\beta \\mathbb{E}\\left[\\widehat{v}\\left(\\varepsilon^{\\prime}, k^{\\prime} ; \\mathrm{s}^{\\prime}\\left(z^{\\prime} ; \\mathrm{s}\\right) | \\varepsilon, k ; \\mathrm{s}\\right]\\right. \\] \n",
    "\n",
    "\\( v^{n}(\\varepsilon, k ; \\mathbf{s})=\\max _{k^{\\prime} \\in[(1-\\delta-a) k,(1-\\delta+a) k]}-\\lambda(\\mathbf{s})\\left(k^{\\prime}-(1-\\delta) k\\right)+\\beta \\mathbb{E}\\left[\\widehat{v}\\left(\\varepsilon^{\\prime}, k^{\\prime} ; \\mathbf{s}^{\\prime}\\left(z^{\\prime} ; \\mathbf{s}\\right) | \\varepsilon, k ; \\mathbf{s}\\right]\\right. \\)\n",
    "\n",
    "\n",
    "and \\( \\widehat{v}(\\varepsilon, k ; \\mathbf{s})=\\mathbb{E}_{\\xi} v(\\varepsilon, k, \\xi ; \\mathbf{s}) \\). Denote the unconstrained capital choice from ( 2) by \\( k^{a}(\\varepsilon, k ; \\mathbf{s}) \\) and the constrained choice from ( 3) by \\( k^{n}(\\varepsilon, k ; \\mathbf{s}) . \\) The firm will choose to pay the fixed cost if and only if \\( v^{a}(\\varepsilon, k ; \\mathbf{s})-\\xi \\lambda(\\mathbf{s}) w(\\mathbf{s}) \\geq v^{n}(\\varepsilon, k ; \\mathbf{s}) . \\) Hence, there is a unique threshold value of the fixed cost \\( \\xi \\) which makes the firm indifferent between these two options, \\[ \\tilde{\\xi}(\\varepsilon, k ; \\mathbf{s})=\\frac{v^{a}(\\varepsilon, k ; \\mathbf{s})-v^{n}(\\varepsilon, k ; \\mathbf{s})}{\\lambda(\\mathbf{s}) w(\\mathbf{s})} \\]\n",
    "\n",
    "Denote \\( \\widehat{\\xi}(\\varepsilon, k ; \\mathbf{s}) \\) as the threshold bounded to be within the support of \\( \\xi, \\) i.e., \\( \\widehat{\\xi}(\\varepsilon, k ; \\mathbf{s})= \\) \\( \\min \\{\\max \\{0, \\widetilde{\\xi}(\\varepsilon, k ; \\mathbf{s})\\}, \\bar{\\xi}\\}\\} \\) It will be numerically convenient to approximate the ex-ante value function \\( \\widehat{v}(\\varepsilon, k ; \\mathbf{s})= \\) \\( \\mathbb{E}_{\\xi} v(\\varepsilon, k, \\xi ; \\mathbf{s}) \\). Given that the extensive margin decision is characterized by the cutoff ( 4) and the fixed cost \\( \\xi \\) is uniformly distributed, the expectation can be computed analytically as\n",
    "\n",
    "\\( \\widehat{v}(\\varepsilon, k ; \\mathbf{s})=\\lambda(\\mathbf{s}) \\max _{n}\\left\\{e^{z} e^{\\varepsilon} k^{\\theta} n^{\\nu}-w(\\mathbf{s}) n\\right\\} \\)\n",
    "\\[ \\quad+\\frac{\\hat{\\xi}(\\varepsilon, k ; \\mathbf{s})}{\\xi}\\left(v^{a}(\\varepsilon, k ; \\mathbf{s})-\\lambda(\\mathbf{s}) w(\\mathbf{s}) \\frac{\\widehat{\\xi}(\\varepsilon, k ; \\mathbf{s})}{\\bar{\\xi}}\\right) v^{n}(\\varepsilon, k ; \\mathbf{s}) \\]\n",
    "\n",
    "\n",
    "* Recursive Competitive Equilibrium\n",
    "\n",
    "In the recursive competitive equilibrium, the aggregate state s contains the current draw of the aggregate productivity shock, \\( z, \\) and the density of firms over \\( (\\varepsilon, k) \\) -space, \\( g(\\varepsilon, k) . \\)\n",
    "\n",
    "A recursive competitive equilibrium for this model is a set \\( \\widehat{v}(\\varepsilon, k ; \\mathbf{s}), \\) \\( n(\\varepsilon, k ; \\mathbf{s}), k^{a}(\\varepsilon, k ; \\mathbf{s}), k^{n}(\\varepsilon, k ; \\mathbf{s}), \\widehat{\\xi}(\\varepsilon, k ; \\mathbf{s}), \\lambda(\\mathbf{s}), w(\\mathbf{s}), \\) and \\( \\mathbf{s}^{\\prime}\\left(z^{\\prime} ; \\mathbf{s}\\right)=\\left(z^{\\prime} ; g^{\\prime}(z, g)\\right) \\) such that\n",
    "\n",
    "1) (Firm optimization) Taking \\( w(\\mathbf{s}), \\lambda(\\mathbf{s}), \\lambda(\\mathbf{s}), \\) and \\( \\mathbf{s}^{\\prime}\\left(z^{\\prime} ; \\mathbf{s}\\right) \\) as given, \\( \\widehat{v}(\\varepsilon, k ; \\mathbf{s}), n(\\varepsilon, k ; \\mathbf{s}) \\) \\( \\quad k^{a}(\\varepsilon, k ; \\mathbf{s}), k^{n}(\\varepsilon, k ; \\mathbf{s}), \\) and \\( \\hat{\\xi}(\\varepsilon, k ; \\mathbf{s}) \\) solve the firm's optimization problem.\n",
    "\n",
    "2) (Household Optimization) \\(\\lambda(\\mathbf{s})=C(\\mathbf{s})^{-\\sigma}, \\) where \\( C(\\mathbf{s})=\\int\\left[e^{z} e^{\\varepsilon} k^{\\theta} n(\\varepsilon, k ; \\mathbf{s})^{\\nu}+(1-\\delta) k-\\left(\\frac{\\widehat{\\xi}(\\varepsilon, k ; \\mathbf{s})}{\\xi}\\right) k^{a}(\\varepsilon, k ; \\mathbf{s})\\right. \\) \\( \\left.-\\left(1-\\frac{\\hat{\\xi}(\\varepsilon, k ; \\mathbf{s})}{\\xi}\\right) k^{n}(\\varepsilon, k ; \\mathbf{s})\\right] g(\\varepsilon, k) d \\varepsilon d k \\) \\(w(\\mathbf{s}) \\) satisfies \\( \\int\\left(n(\\varepsilon, k ; \\mathbf{s})+\\frac{\\hat{\\xi}(\\varepsilon, k ; \\mathbf{s})^{2}}{2 \\xi}\\right) g(\\varepsilon, k) d \\varepsilon d k=\\left(\\frac{w(\\mathbf{s}) \\lambda(\\mathbf{s})}{x}\\right)^{\\frac{1}{\\alpha}} \\)\n",
    "\n",
    "3) (Law of motion for distribution) For all \\( \\left(\\varepsilon^{\\prime}, k^{\\prime}\\right) \\) \\( g^{\\prime}\\left(\\varepsilon^{\\prime}, k^{\\prime} ; z, \\mathbf{m}\\right)=\\iiint_{ } 1\\left\\{\\rho_{\\varepsilon} \\varepsilon+\\sigma_{\\varepsilon} \\omega_{\\varepsilon}^{\\prime}=\\varepsilon^{\\prime}\\right\\} \\times\\left[\\frac{\\hat{\\xi}(\\varepsilon, k ; z, \\mathbf{m})}{\\xi} 1\\left\\{k^{a}(\\varepsilon, k ; z, \\mathbf{m})=k^{\\prime}\\right\\}\\right] \\)\n",
    "\\( \\left.g^{\\prime}\\left(\\varepsilon^{\\prime}, k^{\\prime} ; z, \\mathbf{m}\\right)=\\iiint_{^{-}}^{T}\\left(1-\\frac{\\hat{\\varepsilon}(\\varepsilon, k ; \\mathbf{m})}{\\xi}\\right) 1\\left\\{k^{n}(\\varepsilon, k ; z, \\mathbf{m})=k^{\\prime}\\right\\}\\right] \\)\n",
    "\\( \\times p\\left(\\omega_{\\varepsilon}^{\\prime}\\right) g(\\varepsilon, k ; \\mathbf{m}) d \\omega_{\\varepsilon}^{\\prime} d \\varepsilon d k \\) where \\( p \\) is the pdf. of idiosyncratic productivity shocks.\n",
    "\n",
    "4) (Law of motion for aggregate shocks) \\( z^{\\prime}=\\rho_{z} z+\\sigma_{z} \\omega_{z}^{\\prime}, \\) where \\( \\omega_{z}^{\\prime} \\sim N(0,1) \\)"
   ]
  },
  {
   "cell_type": "markdown",
   "metadata": {},
   "source": [
    "## Computational Method \n",
    "\n",
    "A code readme is placed in github (to-do) to detail the method. I outline the steps briefly here.\n",
    "\n",
    "There are three steps involved here. \n",
    "* **Step 1**\n",
    "\n",
    "\n",
    "Approximate the model’s equilibrium objects –  the value function and distribution – using finitedimensional global approximations with respect to individual state variables. This step yields\n",
    "a finite-dimensional representation of the equilibrium at every point in time. \n",
    "\n",
    "* **Step 2**\n",
    "\n",
    "\n",
    "Compute the stationary equilibrium of the finite-dimensional model in which there are no aggregate shocks but still idiosyncratic shocks. \n",
    "\n",
    "* **Step 3**\n",
    "\n",
    "\n",
    "The final step is to compute the aggregate dynamics of the finite-dimensional model using a locally accurate\n",
    "Taylor expansion around the stationary equilibrium.\n",
    "\n",
    "\n",
    "Numerous approximation types are employed such as quadrature methods, spline approximations to move ahead with solving the model."
   ]
  },
  {
   "attachments": {},
   "cell_type": "markdown",
   "metadata": {},
   "source": [
    "## Results"
   ]
  },
  {
   "attachments": {},
   "cell_type": "markdown",
   "metadata": {},
   "source": [
    "The model establishes consistency with essential features of the microeconomic data, as well as its nonlinearities in partial equilibrium, and then comes up with some results for aggregate dynamics.\n",
    "\n",
    "* **Result 1** \n",
    "When relative prices vary over time to clear the\n",
    "markets for labor and goods, we find that aggregate nonlinearities associated\n",
    "with lumpy investment disappear, leaving the economy’s dynamics virtually indistinguishable from those in the standard frictionless environment. \n",
    "\n",
    "* **Result 2**\n",
    "Fluctuations in target capital stocks are smoothed dramatically, and thus so are the sharp changes along the extensive margin that generate the large positive skewness and excess kurtosis seen above. Moreover, by restraining changes\n",
    "along both the intensive and extensive margins, market-clearing relative price\n",
    "movements also smooth away the excessively large and abrupt fluctuations in\n",
    "aggregate investment demand one sees in partial equilibrium, thereby yielding\n",
    "an aggregate investment rate with persistence and **volatility close to the data.**"
   ]
  },
  {
   "cell_type": "markdown",
   "metadata": {},
   "source": [
    "## References"
   ]
  },
  {
   "cell_type": "markdown",
   "metadata": {},
   "source": [
    "   * Micro-level Heterogeneity and Transmission: [Reiter, Sveen and Weinke (2013)] (_Lumpy investment and the monetary transmission mechanism_), [Koby and Wolf (2019)] **(_Investment Stimulus: From Micro Elasticities to Macro Counterfactuals_)**.\n",
    "   \n",
    "   * Financial heterogeneity and  the business cycle dynamics of aggregate investment: [Khan, Senga and Thomas (2016)] **(_Default Risk and Aggregate Fluctuations in an Economy with Production Heterogeneity_)**.\n",
    "\n",
    "   * Investment and Business Cycle: [Cooper, Haltiwanger (2006)] **(_Machine Replacement and the Business Cycle: Lumps and Bumps_)**. \n",
    "   \n",
    "   * Heterogeneity and computation: [Krusell, Smith (1998)] **(_Income and wealth heterogeneity in the macroeconomy_)**.\n",
    "\n",
    "   * Khan, A. and Thomas, J. K. (2008), Idiosyncratic Shocks and the Role of Nonconvexities in Plant and Aggregate Investment Dynamics. Econometrica, 76: 395-436.\n",
    "   \n",
    "   * Winberry, T. (2018), A method for solving and estimating heterogeneous agent macro models. Quantitative Economics, 9: 1123-1151."
   ]
  },
  {
   "cell_type": "code",
   "execution_count": null,
   "metadata": {},
   "outputs": [],
   "source": []
  },
  {
   "cell_type": "code",
   "execution_count": null,
   "metadata": {},
   "outputs": [],
   "source": []
  },
  {
   "cell_type": "code",
   "execution_count": null,
   "metadata": {},
   "outputs": [],
   "source": []
  }
 ],
 "metadata": {
  "kernelspec": {
   "display_name": "Python 3",
   "language": "python",
   "name": "python3"
  },
  "language_info": {
   "codemirror_mode": {
    "name": "ipython",
    "version": 3
   },
   "file_extension": ".py",
   "mimetype": "text/x-python",
   "name": "python",
   "nbconvert_exporter": "python",
   "pygments_lexer": "ipython3",
   "version": "3.7.3"
  },
  "latex_envs": {
   "LaTeX_envs_menu_present": true,
   "autoclose": false,
   "autocomplete": true,
   "bibliofile": "biblio.bib",
   "cite_by": "apalike",
   "current_citInitial": 1,
   "eqLabelWithNumbers": true,
   "eqNumInitial": 1,
   "hotkeys": {
    "equation": "Ctrl-E",
    "itemize": "Ctrl-I"
   },
   "labels_anchors": false,
   "latex_user_defs": false,
   "report_style_numbering": false,
   "user_envs_cfg": false
  }
 },
 "nbformat": 4,
 "nbformat_minor": 2
}
